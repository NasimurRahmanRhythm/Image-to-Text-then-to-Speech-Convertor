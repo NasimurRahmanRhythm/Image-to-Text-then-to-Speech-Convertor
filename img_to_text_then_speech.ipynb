import cv2 
import tkinter as tk
import os
import sys
from PIL import Image, ImageTk
import numpy
import pytesseract
import pyttsx3
engine = pyttsx3.init()
pytesseract.pytesseract.tesseract_cmd = r'C:/Program Files/Tesseract-OCR/tesseract.exe'



key = cv2. waitKey(1)
webcam = cv2.VideoCapture(0)
while True:
    check, frame = webcam.read()
    cv2.imshow("Capturing", frame)
    key = cv2.waitKey(1)
    if key == ord('s'): 
        cv2.imwrite(filename='saved_img.jpg', img=frame)
        webcam.release()
        img_new = cv2.imread('saved_img.jpg')
        cv2.waitKey(1650)
        cv2.destroyAllWindows()
        txt = pytesseract.image_to_string(img_new)
        print(txt)
        engine.say(txt)
        engine.runAndWait()
        engine.stop()
        break
    elif key == ord('q'):
            print("Turning off camera.")
            webcam.release()
            print("Camera off.")
            print("Program ended.")
            cv2.destroyAllWindows()
            break 
